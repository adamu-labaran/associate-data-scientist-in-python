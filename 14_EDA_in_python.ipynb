{
 "cells": [
  {
   "cell_type": "markdown",
   "metadata": {},
   "source": [
    ">#### Learn how to explore, visualize, and extract insights from data using exploratory data analysis (EDA) in Python."
   ]
  },
  {
   "cell_type": "markdown",
   "metadata": {},
   "source": [
    ">Exploratory Data Analysis: Is the process of reviewing and cleaning data to derive insights such as descriptive statistics and corrolation, and generate hypotheses for experiment"
   ]
  },
  {
   "cell_type": "markdown",
   "metadata": {},
   "source": [
    ">_EDA_ results often inform the next steps for the dataset, whether that be generatting hypotheses, preparing the data for use in a machine learning model, or even throwing the data out and gathering new data."
   ]
  },
  {
   "cell_type": "code",
   "execution_count": null,
   "metadata": {},
   "outputs": [],
   "source": []
  },
  {
   "cell_type": "code",
   "execution_count": 2,
   "metadata": {},
   "outputs": [],
   "source": [
    "import pandas as pd\n",
    "# loading csv file using pandas\n",
    "planes = pd.read_csv(\"planes.csv\")\n"
   ]
  },
  {
   "cell_type": "code",
   "execution_count": 3,
   "metadata": {},
   "outputs": [
    {
     "name": "stdout",
     "output_type": "stream",
     "text": [
      "           Airline Date_of_Journey    Source Destination  \\\n",
      "0      Jet Airways       9/06/2019     Delhi      Cochin   \n",
      "1           IndiGo      12/05/2019   Kolkata    Banglore   \n",
      "2           IndiGo      01/03/2019  Banglore   New Delhi   \n",
      "3         SpiceJet      24/06/2019   Kolkata    Banglore   \n",
      "4      Jet Airways      12/03/2019  Banglore   New Delhi   \n",
      "...            ...             ...       ...         ...   \n",
      "10655     Air Asia       9/04/2019   Kolkata    Banglore   \n",
      "10656    Air India      27/04/2019   Kolkata    Banglore   \n",
      "10657  Jet Airways      27/04/2019  Banglore       Delhi   \n",
      "10658      Vistara      01/03/2019  Banglore   New Delhi   \n",
      "10659    Air India       9/05/2019     Delhi      Cochin   \n",
      "\n",
      "                       Route Dep_Time  Arrival_Time Duration Total_Stops  \\\n",
      "0      DEL → LKO → BOM → COK    09:25  04:25 10 Jun      19h     2 stops   \n",
      "1            CCU → NAG → BLR    18:05         23:30   5h 25m      1 stop   \n",
      "2            BLR → NAG → DEL    16:50         21:35   4h 45m      1 stop   \n",
      "3                  CCU → BLR    09:00         11:25   2h 25m    non-stop   \n",
      "4            BLR → BOM → DEL    18:55  10:25 13 Mar  15h 30m      1 stop   \n",
      "...                      ...      ...           ...      ...         ...   \n",
      "10655              CCU → BLR    19:55         22:25   2h 30m    non-stop   \n",
      "10656              CCU → BLR    20:45         23:20   2h 35m    non-stop   \n",
      "10657              BLR → DEL      NaN         11:20       3h    non-stop   \n",
      "10658              BLR → DEL    11:30         14:10   2h 40m    non-stop   \n",
      "10659  DEL → GOI → BOM → COK    10:55         19:15   8h 20m     2 stops   \n",
      "\n",
      "                   Additional_Info    Price  \n",
      "0                          No info  13882.0  \n",
      "1                          No info   6218.0  \n",
      "2                          No info  13302.0  \n",
      "3                          No info   3873.0  \n",
      "4      In-flight meal not included  11087.0  \n",
      "...                            ...      ...  \n",
      "10655                      No info   4107.0  \n",
      "10656                      No info   4145.0  \n",
      "10657                          NaN   7229.0  \n",
      "10658                      No info  12648.0  \n",
      "10659                      No info  11753.0  \n",
      "\n",
      "[10660 rows x 11 columns]\n"
     ]
    }
   ],
   "source": [
    "print(planes)"
   ]
  },
  {
   "cell_type": "code",
   "execution_count": 7,
   "metadata": {},
   "outputs": [
    {
     "name": "stdout",
     "output_type": "stream",
     "text": [
      "       Airline Date_of_Journey    Source Destination                  Route  \\\n",
      "0  Jet Airways       9/06/2019     Delhi      Cochin  DEL → LKO → BOM → COK   \n",
      "1       IndiGo      12/05/2019   Kolkata    Banglore        CCU → NAG → BLR   \n",
      "2       IndiGo      01/03/2019  Banglore   New Delhi        BLR → NAG → DEL   \n",
      "3     SpiceJet      24/06/2019   Kolkata    Banglore              CCU → BLR   \n",
      "4  Jet Airways      12/03/2019  Banglore   New Delhi        BLR → BOM → DEL   \n",
      "\n",
      "  Dep_Time  Arrival_Time Duration Total_Stops              Additional_Info  \\\n",
      "0    09:25  04:25 10 Jun      19h     2 stops                      No info   \n",
      "1    18:05         23:30   5h 25m      1 stop                      No info   \n",
      "2    16:50         21:35   4h 45m      1 stop                      No info   \n",
      "3    09:00         11:25   2h 25m    non-stop                      No info   \n",
      "4    18:55  10:25 13 Mar  15h 30m      1 stop  In-flight meal not included   \n",
      "\n",
      "     Price  \n",
      "0  13882.0  \n",
      "1   6218.0  \n",
      "2  13302.0  \n",
      "3   3873.0  \n",
      "4  11087.0  \n"
     ]
    }
   ],
   "source": [
    "print(planes.head())"
   ]
  },
  {
   "cell_type": "code",
   "execution_count": 8,
   "metadata": {},
   "outputs": [
    {
     "name": "stdout",
     "output_type": "stream",
     "text": [
      "<class 'pandas.core.frame.DataFrame'>\n",
      "RangeIndex: 10660 entries, 0 to 10659\n",
      "Data columns (total 11 columns):\n",
      " #   Column           Non-Null Count  Dtype  \n",
      "---  ------           --------------  -----  \n",
      " 0   Airline          10233 non-null  object \n",
      " 1   Date_of_Journey  10338 non-null  object \n",
      " 2   Source           10473 non-null  object \n",
      " 3   Destination      10313 non-null  object \n",
      " 4   Route            10404 non-null  object \n",
      " 5   Dep_Time         10400 non-null  object \n",
      " 6   Arrival_Time     10466 non-null  object \n",
      " 7   Duration         10446 non-null  object \n",
      " 8   Total_Stops      10448 non-null  object \n",
      " 9   Additional_Info  10071 non-null  object \n",
      " 10  Price            10044 non-null  float64\n",
      "dtypes: float64(1), object(10)\n",
      "memory usage: 916.2+ KB\n"
     ]
    }
   ],
   "source": [
    "planes.info()"
   ]
  },
  {
   "cell_type": "code",
   "execution_count": null,
   "metadata": {},
   "outputs": [
    {
     "data": {
      "text/plain": [
       "Duration\n",
       "2h 50m     532\n",
       "1h 30m     375\n",
       "2h 45m     329\n",
       "2h 55m     329\n",
       "2h 35m     322\n",
       "          ... \n",
       "37h 10m      1\n",
       "36h 25m      1\n",
       "27h 55m      1\n",
       "35h 35m      1\n",
       "30h 15m      1\n",
       "Name: count, Length: 367, dtype: int64"
      ]
     },
     "execution_count": 9,
     "metadata": {},
     "output_type": "execute_result"
    }
   ],
   "source": [
    "planes.value_counts(\"Duration\") # finding the number of duration in each journey"
   ]
  },
  {
   "cell_type": "markdown",
   "metadata": {},
   "source": [
    ">A common question about caegorical columns in a dataset is how many data points we have in each category"
   ]
  }
 ],
 "metadata": {
  "kernelspec": {
   "display_name": "Python 3",
   "language": "python",
   "name": "python3"
  },
  "language_info": {
   "codemirror_mode": {
    "name": "ipython",
    "version": 3
   },
   "file_extension": ".py",
   "mimetype": "text/x-python",
   "name": "python",
   "nbconvert_exporter": "python",
   "pygments_lexer": "ipython3",
   "version": "3.12.9"
  }
 },
 "nbformat": 4,
 "nbformat_minor": 2
}
