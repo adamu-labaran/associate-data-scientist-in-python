{
 "cells": [
  {
   "cell_type": "markdown",
   "metadata": {},
   "source": [
    "\n",
    "The .loc property in pandas is used for label-based indexing to access or modify specific rows and columns in a DataFrame. It allows selection based on labels (row and column names) rather than numerical indices.\n",
    "\n",
    "Key Uses of .loc:\n",
    "Selecting Rows by Label:\n",
    "\n",
    "python\n",
    "Copy\n",
    "Edit\n",
    "df.loc['row_label']\n",
    "Example:\n",
    "\n",
    "python\n",
    "Copy\n",
    "Edit\n",
    "import pandas as pd\n",
    "data = {'Name': ['Alice', 'Bob', 'Charlie'], 'Age': [25, 30, 35]}\n",
    "df = pd.DataFrame(data, index=['a', 'b', 'c'])\n",
    "print(df.loc['b'])\n",
    "Output:\n",
    "\n",
    "pgsql\n",
    "Copy\n",
    "Edit\n",
    "Name    Bob\n",
    "Age      30\n",
    "Name: b, dtype: object\n",
    "Selecting Rows and Specific Columns:\n",
    "\n",
    "python\n",
    "Copy\n",
    "Edit\n",
    "df.loc[row_label, column_label]\n",
    "Example:\n",
    "\n",
    "python\n",
    "Copy\n",
    "Edit\n",
    "print(df.loc['b', 'Age'])  # Output: 30\n",
    "Selecting Multiple Rows and Columns:\n",
    "\n",
    "python\n",
    "Copy\n",
    "Edit\n",
    "df.loc[['row1', 'row2'], ['col1', 'col2']]\n",
    "Example:\n",
    "\n",
    "python\n",
    "Copy\n",
    "Edit\n",
    "print(df.loc[['a', 'b'], ['Name', 'Age']])\n",
    "Filtering with Conditions:\n",
    "\n",
    "python\n",
    "Copy\n",
    "Edit\n",
    "df.loc[df['Age'] > 25]\n",
    "This selects rows where the Age column is greater than 25.\n",
    "\n",
    "Modifying Data Using .loc:\n",
    "\n",
    "python\n",
    "Copy\n",
    "Edit\n",
    "df.loc['b', 'Age'] = 32\n",
    "Key Difference Between .loc and .iloc\n",
    ".loc is label-based indexing (uses row/column names).\n",
    ".iloc is position-based indexing (uses numerical indices).\n",
    "Would you like me to clarify anything further? 😊"
   ]
  },
  {
   "cell_type": "markdown",
   "metadata": {},
   "source": [
    "Data visualization is a key skill for aspiring data scientists. Matplotlib makes it easy to create meaningful and insightful plots. In this chapter, you’ll learn how to build various types of plots, and customize them to be more visually appealing and interpretable."
   ]
  },
  {
   "cell_type": "markdown",
   "metadata": {},
   "source": [
    "Line plot (1)\n",
    "With matplotlib, you can create a bunch of different plots in Python. The most basic plot is the line plot. A general recipe is given here.\n",
    "\n",
    "import matplotlib.pyplot as plt\n",
    "plt.plot(x,y)\n",
    "plt.show()\n",
    "In the video, you already saw how much the world population has grown over the past years. Will it continue to do so? The world bank has estimates of the world population for the years 1950 up to 2100. The years are loaded in your workspace as a list called year, and the corresponding populations as a list called pop.\n",
    "\n",
    "This course touches on a lot of concepts you may have forgotten, so if you ever need a quick refresher, download the Python Cheat Sheet and keep it handy!\n",
    "\n",
    "Instructions\n",
    "100 XP\n",
    "print() the last item from both the year and the pop list to see what the predicted population for the year 2100 is. Use two print() functions.\n",
    "Before you can start, you should import matplotlib.pyplot as plt. pyplot is a sub-package of matplotlib, hence the dot.\n",
    "Use plt.plot() to build a line plot. year should be mapped on the horizontal axis, pop on the vertical axis. Don't forget to finish off with the plt.show() function to actually display the plot."
   ]
  },
  {
   "cell_type": "markdown",
   "metadata": {},
   "source": []
  },
  {
   "cell_type": "code",
   "execution_count": 1,
   "metadata": {},
   "outputs": [
    {
     "ename": "NameError",
     "evalue": "name 'year' is not defined",
     "output_type": "error",
     "traceback": [
      "\u001b[1;31m---------------------------------------------------------------------------\u001b[0m",
      "\u001b[1;31mNameError\u001b[0m                                 Traceback (most recent call last)",
      "Cell \u001b[1;32mIn[1], line 2\u001b[0m\n\u001b[0;32m      1\u001b[0m \u001b[38;5;66;03m# Print the last item from year and pop\u001b[39;00m\n\u001b[1;32m----> 2\u001b[0m \u001b[38;5;28mprint\u001b[39m(\u001b[43myear\u001b[49m[\u001b[38;5;241m-\u001b[39m\u001b[38;5;241m1\u001b[39m])\n\u001b[0;32m      3\u001b[0m \u001b[38;5;28mprint\u001b[39m(pop[\u001b[38;5;241m-\u001b[39m\u001b[38;5;241m1\u001b[39m])\n\u001b[0;32m      5\u001b[0m \u001b[38;5;66;03m# Import matplotlib.pyplot as plt\u001b[39;00m\n",
      "\u001b[1;31mNameError\u001b[0m: name 'year' is not defined"
     ]
    }
   ],
   "source": [
    "# Print the last item from year and pop\n",
    "print(year[-1])\n",
    "print(pop[-1])\n",
    "\n",
    "# Import matplotlib.pyplot as plt\n",
    "import matplotlib.pyplot as plt\n",
    "\n",
    "# Make a line plot: year on the x-axis, pop on the y-axis\n",
    "plt.plot(year, pop)\n",
    "\n",
    "# Display the plot with plt.show()\n",
    "plt.show()"
   ]
  },
  {
   "cell_type": "code",
   "execution_count": null,
   "metadata": {},
   "outputs": [],
   "source": []
  },
  {
   "cell_type": "markdown",
   "metadata": {},
   "source": []
  }
 ],
 "metadata": {
  "kernelspec": {
   "display_name": "base",
   "language": "python",
   "name": "python3"
  },
  "language_info": {
   "codemirror_mode": {
    "name": "ipython",
    "version": 3
   },
   "file_extension": ".py",
   "mimetype": "text/x-python",
   "name": "python",
   "nbconvert_exporter": "python",
   "pygments_lexer": "ipython3",
   "version": "3.12.7"
  }
 },
 "nbformat": 4,
 "nbformat_minor": 2
}
