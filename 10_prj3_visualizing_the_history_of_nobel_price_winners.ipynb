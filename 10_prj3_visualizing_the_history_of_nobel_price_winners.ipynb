{
 "cells": [
  {
   "cell_type": "markdown",
   "metadata": {},
   "source": [
    "1. Load the dataset and find the most common gender and birth country\n",
    "\n",
    "2. Identify the decade with the highest ratio of US-born winners\n",
    "\n",
    "3. Find the decade and category with the highest proportion of female laureates\n",
    "\n",
    "4. Find first woman to win a Nobel Prize\n",
    "\n",
    "5. Determine repeat winners\n",
    "\n",
    "Steps to complete\n",
    "\n",
    "1\n",
    "Load the dataset and find the most common gender and birth country\n",
    "2\n",
    "Identify the decade with the highest ratio of US-born winners\n",
    "3\n",
    "Find the decade and category with the highest proportion of female laureates\n",
    "4\n",
    "Find first woman to win a Nobel Prize\n",
    "5\n",
    "Determine repeat winners\n",
    "\n",
    "https://www.datacamp.com/datalab/w/533a087c-9822-47a8-b1f9-c5c44bd19b98/edit\n",
    "\n",
    "\n",
    "Project Instructions Analyze Nobel Prize winner data and identify patterns by answering the following questions: What is the most commonly awarded gender and birth country? Store your answers as string variables top_gender and top_country. Which decade had the highest ratio of US-born Nobel Prize winners to total winners in all categories? Store this as an integer called max_decade_usa. Which decade and Nobel Prize category combination had the highest proportion of female laureates? Store this as a dictionary called max_female_dict where the decade is the key and the category is the value. There should only be one key:value pair. Who was the first woman to receive a Nobel Prize, and in what category? Save your string answers as first_woman_name and first_woman_category. Which individuals or organizations have won more than one Nobel Prize throughout the years? Store the full names in a list named repeat_list. The Nobel Prize has been among the most prestigious international awards since 1901. Each year, awards are bestowed in chemistry, literature, physics, physiology or medicine, economics, and peace. In addition to the honor, prestige, and substantial prize money, the recipient also gets a gold medal with an image of Alfred Nobel (1833 - 1896), who established the prize. ![](Nobel_Prize.png) The Nobel Foundation has made a dataset available of all prize winners from the outset of the awards from 1901 to 2023. The dataset used in this project is from the Nobel Prize API and is available in the `nobel.csv` file in the `data` folder. In this project, you'll get a chance to explore and answer several questions related to this prizewinning data. And we encourage you then to explore further questions that you're interested in! project guides 1. Load the dataset and find the most common gender and birth country 2. Identify the decade with the highest ratio of US-born winners 3. Find the decade and category with the highest proportion of female laureates 4. Find first woman to win a Nobel Prize 5. Determine repeat winners Steps to complete 1 Load the dataset and find the most common gender and birth country 2 Identify the decade with the highest ratio of US-born winners 3 Find the decade and category with the highest proportion of female laureates 4 Find first woman to win a Nobel Prize 5 Determine repeat winners\n",
    "Looks like you're ready to dive into some fascinating data on Nobel Prize winners! I'll break down the steps for you and provide some guidance on how to approach this analysis.\n",
    "\n",
    "Steps to Complete the Analysis:\n",
    "Step 1: Load the Dataset and Find the Most Common Gender and Birth Country\n",
    "Load the nobel.csv file from the data folder.\n",
    "\n",
    "Analyze the data to find the most common gender and birth country.\n",
    "\n",
    "Store the results as string variables: top_gender and top_country.\n",
    "\n",
    "Step 2: Identify the Decade with the Highest Ratio of US-born Winners\n",
    "Calculate the total number of Nobel Prize winners for each decade.\n",
    "\n",
    "Determine the number of US-born winners for each decade.\n",
    "\n",
    "Calculate the ratio of US-born winners to the total number of winners for each decade.\n",
    "\n",
    "Store the decade with the highest ratio as an integer variable: max_decade_usa.\n",
    "\n",
    "Step 3: Find the Decade and Category with the Highest Proportion of Female Laureates\n",
    "Group the data by decade and category.\n",
    "\n",
    "Calculate the proportion of female laureates for each decade and category combination.\n",
    "\n",
    "Identify the combination with the highest proportion.\n",
    "\n",
    "Store this combination as a dictionary: max_female_dict where the decade is the key and the category is the value.\n",
    "\n",
    "Step 4: Find the First Woman to Win a Nobel Prize\n",
    "Sort the data by the year to find the first woman laureate.\n",
    "\n",
    "Identify the category in which she won the prize.\n",
    "\n",
    "Store the results as string variables: first_woman_name and first_woman_category.\n",
    "\n",
    "Step 5: Determine Repeat Winners\n",
    "Identify individuals or organizations who have won more than one Nobel Prize.\n",
    "\n",
    "Store the full names in a list variable: repeat_list.\n",
    "\n",
    "Python Code Guide:\n",
    "Here's a guide to help you get started with the analysis. You can use pandas to load and manipulate the dataset.\n",
    "\n",
    "Load the dataset and find the most common gender and birth country\n",
    "python\n",
    "import pandas as pd\n",
    "\n",
    "# Load the dataset\n",
    "data = pd.read_csv('data/nobel.csv')\n",
    "\n",
    "# Find the most common gender and birth country\n",
    "top_gender = data['Gender'].mode()[0]\n",
    "top_country = data['Birth Country'].mode()[0]\n",
    "\n",
    "print(top_gender)\n",
    "print(top_country)\n",
    "Identify the decade with the highest ratio of US-born winners\n",
    "python\n",
    "data['Decade'] = (data['Year'] // 10) * 10\n",
    "us_winners = data[data['Birth Country'] == 'United States']\n",
    "us_ratio_by_decade = us_winners['Decade'].value_counts() / data['Decade'].value_counts()\n",
    "max_decade_usa = us_ratio_by_decade.idxmax()\n",
    "\n",
    "print(max_decade_usa)\n",
    "Find the decade and category with the highest proportion of female laureates\n",
    "python\n",
    "female_winners = data[data['Gender'] == 'Female']\n",
    "female_proportion = female_winners.groupby(['Decade', 'Category']).size() / data.groupby(['Decade', 'Category']).size()\n",
    "max_female_dict = {female_proportion.idxmax()[0]: female_proportion.idxmax()[1]}\n",
    "\n",
    "print(max_female_dict)\n",
    "Find the first woman to win a Nobel Prize\n",
    "python\n",
    "first_woman = data[data['Gender'] == 'Female'].sort_values('Year').iloc[0]\n",
    "first_woman_name = first_woman['Full Name']\n",
    "first_woman_category = first_woman['Category']\n",
    "\n",
    "print(first_woman_name)\n",
    "print(first_woman_category)\n",
    "Determine repeat winners\n",
    "python\n",
    "repeat_winners = data['Full Name'].value_counts()\n",
    "repeat_list = repeat_winners[repeat_winners > 1].index.tolist()\n",
    "\n",
    "print(repeat_list)\n",
    "Feel free to tweak the code to suit your specific needs or explore additional questions. Good luck with your project! If you need any further assistance, I'm here to help. 😊\n",
    "\n",
    "KeyError: 'Category'\n",
    "The \"KeyError: 'Category'\" typically means that the column name \"Category\" does not exist in the dataframe. This could be due to several reasons such as a typo in the column name or the column name being different in the actual dataset.\n",
    "\n",
    "Let's first check the column names in your dataset to ensure that they match what you're using in your code.\n",
    "\n",
    "Here's a snippet to check the column names:\n",
    "\n",
    "python\n",
    "# Check the column names\n",
    "print(data.columns)\n",
    "This will help you identify the exact column names. Once you have the correct column name, you can adjust your code accordingly.\n",
    "\n",
    "If the column name for the Nobel Prize category is different, for example, \"Prize Category\" instead of \"Category,\" you'll need to update your code like this:\n",
    "\n",
    "python\n",
    "# Correct column name if it's different\n",
    "female_winners = data[data['Gender'] == 'Female']\n",
    "female_proportion = female_winners.groupby(['Decade', 'Prize Category']).size() / data.groupby(['Decade', 'Prize Category']).size()\n",
    "max_female_dict = {female_proportion.idxmax()[0]: female_proportion.idxmax()[1]}\n",
    "\n",
    "print(max_female_dict)\n",
    "Please check the column names and make sure they match the ones used in your dataset. If you still encounter issues, feel free to share the column names with me, and I'll help you troubleshoot further! 😊"
   ]
  },
  {
   "cell_type": "code",
   "execution_count": 3,
   "metadata": {},
   "outputs": [],
   "source": [
    "import pandas as pd\n",
    "\n",
    "# Load the dataset\n",
    "data = pd.read_csv('datasets/nobel.csv')"
   ]
  },
  {
   "cell_type": "code",
   "execution_count": 4,
   "metadata": {},
   "outputs": [
    {
     "name": "stdout",
     "output_type": "stream",
     "text": [
      "Index(['year', 'category', 'prize', 'motivation', 'prize_share', 'laureate_id',\n",
      "       'laureate_type', 'full_name', 'birth_date', 'birth_city',\n",
      "       'birth_country', 'sex', 'organization_name', 'organization_city',\n",
      "       'organization_country', 'death_date', 'death_city', 'death_country'],\n",
      "      dtype='object')\n"
     ]
    }
   ],
   "source": [
    "# Check the column names\n",
    "print(data.columns)"
   ]
  },
  {
   "cell_type": "code",
   "execution_count": 5,
   "metadata": {},
   "outputs": [
    {
     "name": "stdout",
     "output_type": "stream",
     "text": [
      "Male\n",
      "United States of America\n"
     ]
    }
   ],
   "source": [
    "# Find the most common gender and birth country\n",
    "top_gender = data['sex'].mode()[0]\n",
    "top_country = data['birth_country'].mode()[0]\n",
    "\n",
    "print(top_gender)\n",
    "print(top_country)\n"
   ]
  },
  {
   "cell_type": "code",
   "execution_count": null,
   "metadata": {},
   "outputs": [],
   "source": [
    "# Identify the decade with the highest ratio of US-born winners"
   ]
  },
  {
   "cell_type": "code",
   "execution_count": null,
   "metadata": {},
   "outputs": [],
   "source": [
    "data['Decade'] = (data['Year'] // 10) * 10\n",
    "us_winners = data[data['Birth Country'] == 'United States']\n",
    "us_ratio_by_decade = us_winners['Decade'].value_counts() / data['Decade'].value_counts()\n",
    "max_decade_usa = us_ratio_by_decade.idxmax()\n",
    "\n",
    "print(max_decade_usa)\n"
   ]
  },
  {
   "cell_type": "code",
   "execution_count": null,
   "metadata": {},
   "outputs": [],
   "source": [
    "# Find the decade and category with the highest proportion of female laureates"
   ]
  },
  {
   "cell_type": "code",
   "execution_count": null,
   "metadata": {},
   "outputs": [],
   "source": [
    "female_winners = data[data['Gender'] == 'Female']\n",
    "female_proportion = female_winners.groupby(['Decade', 'Category']).size() / data.groupby(['Decade', 'Category']).size()\n",
    "max_female_dict = {female_proportion.idxmax()[0]: female_proportion.idxmax()[1]}\n",
    "\n",
    "print(max_female_dict)\n"
   ]
  },
  {
   "cell_type": "code",
   "execution_count": null,
   "metadata": {},
   "outputs": [],
   "source": [
    "# Find the first woman to win a Nobel Prize\n"
   ]
  },
  {
   "cell_type": "code",
   "execution_count": null,
   "metadata": {},
   "outputs": [],
   "source": [
    "first_woman = data[data['Gender'] == 'Female'].sort_values('Year').iloc[0]\n",
    "first_woman_name = first_woman['Full Name']\n",
    "first_woman_category = first_woman['Category']\n",
    "\n",
    "print(first_woman_name)\n",
    "print(first_woman_category)\n"
   ]
  },
  {
   "cell_type": "code",
   "execution_count": null,
   "metadata": {},
   "outputs": [],
   "source": [
    "# Determine repeat winners"
   ]
  },
  {
   "cell_type": "code",
   "execution_count": null,
   "metadata": {},
   "outputs": [],
   "source": [
    "repeat_winners = data['Full Name'].value_counts()\n",
    "repeat_list = repeat_winners[repeat_winners > 1].index.tolist()\n",
    "\n",
    "print(repeat_list)\n"
   ]
  }
 ],
 "metadata": {
  "kernelspec": {
   "display_name": "base",
   "language": "python",
   "name": "python3"
  },
  "language_info": {
   "codemirror_mode": {
    "name": "ipython",
    "version": 3
   },
   "file_extension": ".py",
   "mimetype": "text/x-python",
   "name": "python",
   "nbconvert_exporter": "python",
   "pygments_lexer": "ipython3",
   "version": "3.12.7"
  }
 },
 "nbformat": 4,
 "nbformat_minor": 2
}
