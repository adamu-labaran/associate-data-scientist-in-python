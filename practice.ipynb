{
 "cells": [
  {
   "cell_type": "code",
   "execution_count": 1,
   "metadata": {},
   "outputs": [],
   "source": [
    "# what is the correct way to import Matplotlib\n",
    "import matplotlib.pyplot as plt"
   ]
  },
  {
   "cell_type": "markdown",
   "metadata": {},
   "source": [
    "In Matplotlib, the alpha argument is used to set the transparency level of a plot layer.\n",
    "The value of alpha ranges from 0 (completely transparent) to 1 (completely opaque).\n",
    "In the provided code, setting alpha=0.7 ensures that overlapping areas are partially visible, making it easier to compare distributions."
   ]
  },
  {
   "cell_type": "code",
   "execution_count": 2,
   "metadata": {},
   "outputs": [
    {
     "ename": "NameError",
     "evalue": "name 'churn' is not defined",
     "output_type": "error",
     "traceback": [
      "\u001b[1;31m---------------------------------------------------------------------------\u001b[0m",
      "\u001b[1;31mNameError\u001b[0m                                 Traceback (most recent call last)",
      "Cell \u001b[1;32mIn[2], line 3\u001b[0m\n\u001b[0;32m      1\u001b[0m \u001b[38;5;28;01mimport\u001b[39;00m \u001b[38;5;21;01mmatplotlib\u001b[39;00m\u001b[38;5;21;01m.\u001b[39;00m\u001b[38;5;21;01mpyplot\u001b[39;00m \u001b[38;5;28;01mas\u001b[39;00m \u001b[38;5;21;01mplt\u001b[39;00m\n\u001b[1;32m----> 3\u001b[0m \u001b[43mchurn\u001b[49m[churn[\u001b[38;5;124m\"\u001b[39m\u001b[38;5;124mexited\u001b[39m\u001b[38;5;124m\"\u001b[39m]\u001b[38;5;241m==\u001b[39m\u001b[38;5;124m\"\u001b[39m\u001b[38;5;124mYes\u001b[39m\u001b[38;5;124m\"\u001b[39m][\u001b[38;5;124m\"\u001b[39m\u001b[38;5;124mcredit_score\u001b[39m\u001b[38;5;124m\"\u001b[39m]\u001b[38;5;241m.\u001b[39mhist(alpha\u001b[38;5;241m=\u001b[39m\u001b[38;5;241m0.7\u001b[39m)  \n\u001b[0;32m      4\u001b[0m churn[churn[\u001b[38;5;124m\"\u001b[39m\u001b[38;5;124mexited\u001b[39m\u001b[38;5;124m\"\u001b[39m]\u001b[38;5;241m==\u001b[39m\u001b[38;5;124m\"\u001b[39m\u001b[38;5;124mNo\u001b[39m\u001b[38;5;124m\"\u001b[39m][\u001b[38;5;124m\"\u001b[39m\u001b[38;5;124mcredit_score\u001b[39m\u001b[38;5;124m\"\u001b[39m]\u001b[38;5;241m.\u001b[39mhist(alpha\u001b[38;5;241m=\u001b[39m\u001b[38;5;241m0.7\u001b[39m)\n\u001b[0;32m      6\u001b[0m plt\u001b[38;5;241m.\u001b[39mshow()\n",
      "\u001b[1;31mNameError\u001b[0m: name 'churn' is not defined"
     ]
    }
   ],
   "source": [
    "import matplotlib.pyplot as plt\n",
    "\n",
    "churn[churn[\"exited\"]==\"Yes\"][\"credit_score\"].hist(alpha=0.7)  \n",
    "churn[churn[\"exited\"]==\"No\"][\"credit_score\"].hist(alpha=0.7)\n",
    "\n",
    "plt.show()"
   ]
  },
  {
   "cell_type": "markdown",
   "metadata": {},
   "source": [
    "❌ Option 1 (bins)\n",
    "\n",
    "The bins argument controls the number of bins in the histogram, not transparency.\n",
    "❌ Option 3 (legend)\n",
    "\n",
    "The legend argument adds labels to differentiate between plots but does not affect transparency."
   ]
  },
  {
   "cell_type": "code",
   "execution_count": null,
   "metadata": {},
   "outputs": [],
   "source": []
  },
  {
   "cell_type": "markdown",
   "metadata": {},
   "source": [
    "Which of the following statements about flat files is incorrect?\n",
    "\n",
    "Flat files consist of rows and each row is called a record.\n",
    "\n",
    "\n",
    "Flat files consist of multiple tables with structured relationships between the tables.\n",
    "\n",
    "A record in a flat file is composed of fields or attributes, each of which contains at most one item of information.\n",
    "\n",
    "Flat files are pervasive in data science.\n",
    "\n",
    "✅ Option 2: \"Flat files consist of multiple tables with structured relationships between the tables.\"\n",
    "\n",
    "Explanation:\n",
    "A flat file is a simple data storage format where data is stored in a plain text or binary file without structured relationships between tables.\n",
    "\n",
    "Why is Option 2 incorrect?\n",
    "Flat files do not support multiple tables or relationships like relational databases (e.g., SQL).\n",
    "They store data in a single table-like structure where each row represents a record and each column represents an attribute or field.\n",
    "Why are the other options correct?\n",
    "✅ Option 1: Flat files consist of rows, and each row is called a record.\n",
    "✔️ True – Each row in a flat file represents a single record of data.\n",
    "\n",
    "✅ Option 3: A record in a flat file is composed of fields or attributes, each of which contains at most one item of information.\n",
    "✔️ True – Each record has fields (or attributes), typically separated by commas (CSV), tabs (TSV), or other delimiters.\n",
    "\n",
    "✅ Option 4: Flat files are pervasive in data science.\n",
    "✔️ True – Data scientists frequently use flat files (CSV, TXT, JSON) to store and process large datasets.\n",
    "\n",
    "Final Answer:\n",
    "❌ Option 2 is incorrect because flat files do not support multiple tables with structured relationships."
   ]
  },
  {
   "cell_type": "code",
   "execution_count": null,
   "metadata": {},
   "outputs": [],
   "source": []
  },
  {
   "cell_type": "markdown",
   "metadata": {},
   "source": [
    "Why we like flat files and the Zen of Python\n",
    "In PythonLand, there are currently hundreds of Python Enhancement Proposals, commonly referred to as PEPs. PEP8, for example, is a standard style guide for Python, written by our sensei Guido van Rossum himself. It is the basis for how we here at DataCamp ask our instructors to style their code. Another one of my favorites is PEP20, commonly called the Zen of Python. Its abstract is as follows:\n",
    "\n",
    "Long time Pythoneer Tim Peters succinctly channels the BDFL's guiding principles for Python's design into 20 aphorisms, only 19 of which have been written down.\n",
    "\n",
    "If you don't know what the acronym BDFL stands for, I suggest that you look here. You can print the Zen of Python in your shell by typing import this into it! You're going to do this now and the 5th aphorism (line) will say something of particular interest.\n",
    "\n",
    "The question you need to answer is: what is the 5th aphorism of the Zen of Python?\n",
    "\n",
    "ans: Flat is better than nested.\n",
    "\n",
    "Flat files are essential for data science.\n",
    "\n",
    "The world is representable as a flat file.\n",
    "\n",
    "Flatness is in the eye of the beholde"
   ]
  },
  {
   "cell_type": "markdown",
   "metadata": {},
   "source": [
    "Using NumPy to import flat files\n",
    "In this exercise, you're now going to load the MNIST digit recognition dataset using the numpy function loadtxt() and see just how easy it can be:\n",
    "\n",
    "The first argument will be the filename.\n",
    "The second will be the delimiter which, in this case, is a comma.\n",
    "The MNIST dataset is a collection of handwritten digits from 0 to 9, frequently used in the field of machine learning. It serves as a benchmark for evaluating algorithm performance in recognizing and classifying these numbers."
   ]
  },
  {
   "cell_type": "markdown",
   "metadata": {},
   "source": [
    "Fill in the arguments of np.loadtxt() by passing file and a comma ',' for the delimiter.\n",
    "Fill in the argument of print() to print the type of the object digits. Use the function type().\n",
    "Execute the rest of the code to visualize one of the rows of the data."
   ]
  },
  {
   "cell_type": "code",
   "execution_count": null,
   "metadata": {},
   "outputs": [],
   "source": [
    "# Import packages\n",
    "import numpy as np\n",
    "\n",
    "# Assign filename to variable: file\n",
    "file = 'digits.csv'\n",
    "\n",
    "# Load file as array: digits\n",
    "digits = np.loadtxt(____, delimiter='____')\n",
    "\n",
    "# Print datatype of digits\n",
    "print(____)\n",
    "\n",
    "# Select and reshape a row\n",
    "im = digits[21, 1:]\n",
    "im_sq = np.reshape(im, (28, 28))\n",
    "\n",
    "# Plot reshaped data (matplotlib.pyplot already loaded as plt)\n",
    "plt.imshow(im_sq, cmap='Greys', interpolation='nearest')\n",
    "plt.show()\n"
   ]
  },
  {
   "cell_type": "code",
   "execution_count": null,
   "metadata": {},
   "outputs": [],
   "source": [
    "# Import packages\n",
    "import numpy as np\n",
    "import matplotlib.pyplot as plt  # Ensure matplotlib is imported\n",
    "\n",
    "# Assign filename to variable: file\n",
    "file = 'digits.csv'\n",
    "\n",
    "# Load file as array: digits\n",
    "digits = np.loadtxt(file, delimiter=',')\n",
    "\n",
    "# Print datatype of digits\n",
    "print(type(digits))\n",
    "\n",
    "# Select and reshape a row\n",
    "im = digits[21, 1:]\n",
    "im_sq = np.reshape(im, (28, 28))\n",
    "\n",
    "# Plot reshaped data\n",
    "plt.imshow(im_sq, cmap='Greys', interpolation='nearest')\n",
    "plt.show()\n"
   ]
  },
  {
   "cell_type": "markdown",
   "metadata": {},
   "source": [
    "file as the first argument in np.loadtxt()\n",
    "\n",
    "The function np.loadtxt() needs the filename passed as a string. Since file is already assigned to 'digits.csv', we use file as the argument.\n",
    "delimiter=','\n",
    "\n",
    "The file is assumed to be a CSV (comma-separated values) file, so the delimiter must be a comma (',').\n",
    "print(type(digits))\n",
    "\n",
    "This prints the type of digits, which should be <class 'numpy.ndarray'>.\n",
    "Ensuring matplotlib.pyplot is imported\n",
    "\n",
    "The code assumes plt is already loaded, but we explicitly import it for clarity.\n"
   ]
  }
 ],
 "metadata": {
  "kernelspec": {
   "display_name": "base",
   "language": "python",
   "name": "python3"
  },
  "language_info": {
   "codemirror_mode": {
    "name": "ipython",
    "version": 3
   },
   "file_extension": ".py",
   "mimetype": "text/x-python",
   "name": "python",
   "nbconvert_exporter": "python",
   "pygments_lexer": "ipython3",
   "version": "3.12.7"
  }
 },
 "nbformat": 4,
 "nbformat_minor": 2
}
