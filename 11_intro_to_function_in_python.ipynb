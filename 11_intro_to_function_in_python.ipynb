{
 "cells": [
  {
   "cell_type": "code",
   "execution_count": 2,
   "metadata": {},
   "outputs": [
    {
     "name": "stdout",
     "output_type": "stream",
     "text": [
      "3.0\n"
     ]
    }
   ],
   "source": [
    "def nth_root(n):\n",
    "    def actual_root(x):\n",
    "        root = x ** (1/n)\n",
    "        return root\n",
    "    return actual_root\n",
    "print(nth_root(3)(27))"
   ]
  },
  {
   "cell_type": "code",
   "execution_count": 3,
   "metadata": {},
   "outputs": [
    {
     "name": "stdout",
     "output_type": "stream",
     "text": [
      "-263.15\n"
     ]
    }
   ],
   "source": [
    "# Complete \n",
    "def kelvin_to_celsius(k):\n",
    "    \"\"\"Converts the temperature from Kelvin to Celsius.\"\"\"\n",
    "    if k < 0:\n",
    "        raise ValueError('Temp must be > o Kelvin')\n",
    "    c = k - 273.15\n",
    "    return c\n",
    "print(kelvin_to_celsius(10))"
   ]
  },
  {
   "cell_type": "code",
   "execution_count": 4,
   "metadata": {},
   "outputs": [
    {
     "name": "stdout",
     "output_type": "stream",
     "text": [
      "59.0\n"
     ]
    }
   ],
   "source": [
    "temp = 15\n",
    "def convert_temp(x):\n",
    "    \"\"\"Convert the temparature from celcius to Fahrenheit\"\"\"\n",
    "    global temp\n",
    "    temp = (x * 1.8) + 32\n",
    "convert_temp(temp)\n",
    "print(temp)"
   ]
  },
  {
   "cell_type": "code",
   "execution_count": 5,
   "metadata": {},
   "outputs": [
    {
     "name": "stdout",
     "output_type": "stream",
     "text": [
      "s can not be a string\n"
     ]
    }
   ],
   "source": [
    "def square(s):\n",
    "    \"\"\"return area & perimeter of a square.\"\"\"\n",
    "    try:\n",
    "        a = s * s\n",
    "        p = 4 * s\n",
    "        return a, p\n",
    "    except TypeError:\n",
    "        print('s can not be a string')\n",
    "square('5')"
   ]
  },
  {
   "cell_type": "code",
   "execution_count": null,
   "metadata": {},
   "outputs": [],
   "source": []
  }
 ],
 "metadata": {
  "kernelspec": {
   "display_name": "Python 3",
   "language": "python",
   "name": "python3"
  },
  "language_info": {
   "codemirror_mode": {
    "name": "ipython",
    "version": 3
   },
   "file_extension": ".py",
   "mimetype": "text/x-python",
   "name": "python",
   "nbconvert_exporter": "python",
   "pygments_lexer": "ipython3",
   "version": "3.12.9"
  }
 },
 "nbformat": 4,
 "nbformat_minor": 2
}
